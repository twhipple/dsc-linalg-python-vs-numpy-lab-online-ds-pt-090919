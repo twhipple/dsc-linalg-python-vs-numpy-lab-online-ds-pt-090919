{
 "cells": [
  {
   "cell_type": "markdown",
   "metadata": {},
   "source": [
    "# Pure Python vs. Numpy - Lab\n",
    "\n",
    "## Introduction \n",
    "\n",
    "Numpy, Scipy, and Pandas provide a significant increase in computational efficiency with complex mathematical operations as compared to Python's built-in arithmetic functions. In this lab, you will calculate and compare the processing speed required for calculating a dot product using both basic arithmetic operations in Python and Numpy's `.dot()` method. \n",
    "\n",
    "## Objectives\n",
    "You will be able to:\n",
    "\n",
    "- Compare the performance of high-dimensional matrix operations in Numpy vs. pure Python\n",
    "\n",
    "## Problem \n",
    "\n",
    "Write a routine to calculate the dot product between two $200 \\times 200$ dimensional matrices using:\n",
    "\n",
    "a) Pure Python (no libraries)\n",
    "\n",
    "b) Numpy's `.dot()` method \n",
    "\n",
    "\n",
    "### Create two $200 \\times 200$ matrices in Python and fill them with random values using `np.random.rand()` "
   ]
  },
  {
   "cell_type": "code",
   "execution_count": 13,
   "metadata": {},
   "outputs": [],
   "source": [
    "import random\n",
    "def new_matrix(a, b):\n",
    "    M = np.zeros((a, b))\n",
    "    for x in range(0, M.shape[0]):\n",
    "        for y in range(0, M.shape[1]):\n",
    "            M[x][y] = random.randrange(1, 9) \n",
    "    return(M)"
   ]
  },
  {
   "cell_type": "code",
   "execution_count": 14,
   "metadata": {},
   "outputs": [],
   "source": [
    "# Compare 200x200 matrix-matrix multiplication speed\n",
    "import numpy as np\n",
    "\n",
    "# Set up the variables\n",
    "A = new_matrix(9,9)\n",
    "B = new_matrix(9,9)"
   ]
  },
  {
   "cell_type": "code",
   "execution_count": 15,
   "metadata": {},
   "outputs": [
    {
     "data": {
      "text/plain": [
       "9"
      ]
     },
     "execution_count": 15,
     "metadata": {},
     "output_type": "execute_result"
    }
   ],
   "source": [
    "len(A)"
   ]
  },
  {
   "cell_type": "code",
   "execution_count": 16,
   "metadata": {},
   "outputs": [
    {
     "data": {
      "text/plain": [
       "(9, 9)"
      ]
     },
     "execution_count": 16,
     "metadata": {},
     "output_type": "execute_result"
    }
   ],
   "source": [
    "A.shape"
   ]
  },
  {
   "cell_type": "code",
   "execution_count": 10,
   "metadata": {},
   "outputs": [],
   "source": [
    "# first attempt\n",
    "def multiply(A, B):\n",
    "    result = []\n",
    "    for i in range(len(B[0])): #this loops through columns of the matrix\n",
    "        total = 0\n",
    "        for j in range(len(v)): #this loops through vector coordinates & rows of matrix\n",
    "            total += A[j] * B[j][i]\n",
    "        result.append(total)\n",
    "    return result"
   ]
  },
  {
   "cell_type": "code",
   "execution_count": 17,
   "metadata": {},
   "outputs": [],
   "source": [
    "# second attempt with help\n",
    "def multiply_matx(X, Y):\n",
    "    # I still need numpy to get me the zeros!\n",
    "    result = np.zeros((X.shape[1], Y.shape[0]))\n",
    "    # iterate through rows of X\n",
    "    for i in range(len(X)):\n",
    "    # iterate through columns of Y\n",
    "       for j in range(len(Y[0])):\n",
    "           # iterate through rows of Y\n",
    "           for k in range(len(Y)):\n",
    "                result[i][j] += X[i][k] * Y[k][j]\n",
    "    return result"
   ]
  },
  {
   "cell_type": "code",
   "execution_count": 18,
   "metadata": {},
   "outputs": [
    {
     "name": "stdout",
     "output_type": "stream",
     "text": [
      "[[1. 4. 2. 4. 5. 4. 2. 3. 6.]\n",
      " [5. 6. 2. 7. 7. 7. 3. 4. 7.]\n",
      " [3. 6. 7. 6. 2. 7. 1. 2. 7.]\n",
      " [2. 6. 6. 5. 6. 3. 7. 6. 4.]\n",
      " [5. 3. 6. 6. 6. 5. 6. 3. 4.]\n",
      " [3. 3. 4. 1. 7. 5. 7. 5. 3.]\n",
      " [6. 7. 6. 3. 4. 6. 2. 5. 1.]\n",
      " [6. 5. 6. 7. 1. 6. 3. 1. 4.]\n",
      " [1. 7. 7. 7. 4. 3. 6. 7. 7.]] \n",
      "\n",
      "[[1. 7. 7. 5. 4. 7. 5. 2. 2.]\n",
      " [5. 3. 8. 7. 8. 1. 5. 1. 8.]\n",
      " [1. 3. 1. 8. 6. 8. 4. 5. 3.]\n",
      " [5. 8. 6. 2. 6. 7. 8. 8. 7.]\n",
      " [6. 5. 7. 4. 8. 3. 4. 8. 2.]\n",
      " [3. 4. 5. 4. 8. 8. 4. 5. 8.]\n",
      " [1. 2. 4. 4. 7. 5. 8. 6. 7.]\n",
      " [8. 5. 7. 7. 8. 4. 3. 6. 2.]\n",
      " [6. 6. 2. 1. 3. 6. 7. 1. 4.]] \n",
      "\n",
      "Python multiplication: \n",
      " [[147. 153. 161. 128. 200. 160. 168. 144. 154.]\n",
      " [212. 246. 265. 200. 308. 256. 260. 222. 240.]\n",
      " [162. 200. 193. 186. 254. 242. 220. 171. 216.]\n",
      " [187. 200. 233. 220. 303. 228. 242. 225. 218.]\n",
      " [161. 211. 221. 199. 282. 252. 241. 222. 210.]\n",
      " [149. 162. 198. 184. 260. 197. 194. 193. 174.]\n",
      " [152. 184. 225. 217. 271. 214. 191. 178. 191.]\n",
      " [131. 195. 194. 178. 239. 238. 218. 169. 208.]\n",
      " [215. 226. 242. 232. 319. 255. 270. 232. 244.]] \n",
      "\n",
      "Numpy dot product: \n",
      " [[147. 153. 161. 128. 200. 160. 168. 144. 154.]\n",
      " [212. 246. 265. 200. 308. 256. 260. 222. 240.]\n",
      " [162. 200. 193. 186. 254. 242. 220. 171. 216.]\n",
      " [187. 200. 233. 220. 303. 228. 242. 225. 218.]\n",
      " [161. 211. 221. 199. 282. 252. 241. 222. 210.]\n",
      " [149. 162. 198. 184. 260. 197. 194. 193. 174.]\n",
      " [152. 184. 225. 217. 271. 214. 191. 178. 191.]\n",
      " [131. 195. 194. 178. 239. 238. 218. 169. 208.]\n",
      " [215. 226. 242. 232. 319. 255. 270. 232. 244.]]\n"
     ]
    }
   ],
   "source": [
    "# Mini-test\n",
    "print(A, '\\n')\n",
    "print(B, '\\n')\n",
    "C = multiply_matx(A,B)\n",
    "print('Python multiplication:', '\\n', C, '\\n')\n",
    "D = A.dot(B)\n",
    "print('Numpy dot product:', '\\n',D)"
   ]
  },
  {
   "cell_type": "markdown",
   "metadata": {},
   "source": [
    "## Pure Python\n",
    "\n",
    "* Initialize a zeros-filled `numpy` matrix\n",
    "* In Python, calculate the dot product using the formula \n",
    "\n",
    "\n",
    "$$ \\large C_{i,j}= \\sum_k A_{i,k}B_{k,j}$$\n",
    "\n",
    "\n",
    "* Use Python's `timeit` library to calculate the processing time\n",
    "* [Visit this link](https://www.pythoncentral.io/time-a-python-function/) for an in-depth explanation on how to time a function or routine in Python\n",
    "\n",
    "**Hint**: Use a nested `for` loop for accessing, calculating, and storing each scalar value in the resulting matrix. "
   ]
  },
  {
   "cell_type": "code",
   "execution_count": 17,
   "metadata": {},
   "outputs": [
    {
     "ename": "ValueError",
     "evalue": "stmt is neither a string nor callable",
     "output_type": "error",
     "traceback": [
      "\u001b[0;31m---------------------------------------------------------------------------\u001b[0m",
      "\u001b[0;31mValueError\u001b[0m                                Traceback (most recent call last)",
      "\u001b[0;32m<ipython-input-17-4729dc7ee789>\u001b[0m in \u001b[0;36m<module>\u001b[0;34m()\u001b[0m\n\u001b[1;32m      1\u001b[0m \u001b[0;32mimport\u001b[0m \u001b[0mtimeit\u001b[0m\u001b[0;34m\u001b[0m\u001b[0m\n\u001b[0;32m----> 2\u001b[0;31m \u001b[0mtimeit\u001b[0m\u001b[0;34m.\u001b[0m\u001b[0mtimeit\u001b[0m\u001b[0;34m(\u001b[0m\u001b[0mmultiply_matx\u001b[0m\u001b[0;34m(\u001b[0m\u001b[0mA\u001b[0m\u001b[0;34m,\u001b[0m\u001b[0mB\u001b[0m\u001b[0;34m)\u001b[0m\u001b[0;34m)\u001b[0m\u001b[0;34m\u001b[0m\u001b[0m\n\u001b[0m",
      "\u001b[0;32m//anaconda3/envs/learn-env/lib/python3.6/timeit.py\u001b[0m in \u001b[0;36mtimeit\u001b[0;34m(stmt, setup, timer, number, globals)\u001b[0m\n\u001b[1;32m    231\u001b[0m            number=default_number, globals=None):\n\u001b[1;32m    232\u001b[0m     \u001b[0;34m\"\"\"Convenience function to create Timer object and call timeit method.\"\"\"\u001b[0m\u001b[0;34m\u001b[0m\u001b[0m\n\u001b[0;32m--> 233\u001b[0;31m     \u001b[0;32mreturn\u001b[0m \u001b[0mTimer\u001b[0m\u001b[0;34m(\u001b[0m\u001b[0mstmt\u001b[0m\u001b[0;34m,\u001b[0m \u001b[0msetup\u001b[0m\u001b[0;34m,\u001b[0m \u001b[0mtimer\u001b[0m\u001b[0;34m,\u001b[0m \u001b[0mglobals\u001b[0m\u001b[0;34m)\u001b[0m\u001b[0;34m.\u001b[0m\u001b[0mtimeit\u001b[0m\u001b[0;34m(\u001b[0m\u001b[0mnumber\u001b[0m\u001b[0;34m)\u001b[0m\u001b[0;34m\u001b[0m\u001b[0m\n\u001b[0m\u001b[1;32m    234\u001b[0m \u001b[0;34m\u001b[0m\u001b[0m\n\u001b[1;32m    235\u001b[0m def repeat(stmt=\"pass\", setup=\"pass\", timer=default_timer,\n",
      "\u001b[0;32m//anaconda3/envs/learn-env/lib/python3.6/timeit.py\u001b[0m in \u001b[0;36m__init__\u001b[0;34m(self, stmt, setup, timer, globals)\u001b[0m\n\u001b[1;32m    128\u001b[0m             \u001b[0mstmt\u001b[0m \u001b[0;34m=\u001b[0m \u001b[0;34m'_stmt()'\u001b[0m\u001b[0;34m\u001b[0m\u001b[0m\n\u001b[1;32m    129\u001b[0m         \u001b[0;32melse\u001b[0m\u001b[0;34m:\u001b[0m\u001b[0;34m\u001b[0m\u001b[0m\n\u001b[0;32m--> 130\u001b[0;31m             \u001b[0;32mraise\u001b[0m \u001b[0mValueError\u001b[0m\u001b[0;34m(\u001b[0m\u001b[0;34m\"stmt is neither a string nor callable\"\u001b[0m\u001b[0;34m)\u001b[0m\u001b[0;34m\u001b[0m\u001b[0m\n\u001b[0m\u001b[1;32m    131\u001b[0m         \u001b[0msrc\u001b[0m \u001b[0;34m=\u001b[0m \u001b[0mtemplate\u001b[0m\u001b[0;34m.\u001b[0m\u001b[0mformat\u001b[0m\u001b[0;34m(\u001b[0m\u001b[0mstmt\u001b[0m\u001b[0;34m=\u001b[0m\u001b[0mstmt\u001b[0m\u001b[0;34m,\u001b[0m \u001b[0msetup\u001b[0m\u001b[0;34m=\u001b[0m\u001b[0msetup\u001b[0m\u001b[0;34m,\u001b[0m \u001b[0minit\u001b[0m\u001b[0;34m=\u001b[0m\u001b[0minit\u001b[0m\u001b[0;34m)\u001b[0m\u001b[0;34m\u001b[0m\u001b[0m\n\u001b[1;32m    132\u001b[0m         \u001b[0mself\u001b[0m\u001b[0;34m.\u001b[0m\u001b[0msrc\u001b[0m \u001b[0;34m=\u001b[0m \u001b[0msrc\u001b[0m  \u001b[0;31m# Save for traceback display\u001b[0m\u001b[0;34m\u001b[0m\u001b[0m\n",
      "\u001b[0;31mValueError\u001b[0m: stmt is neither a string nor callable"
     ]
    }
   ],
   "source": [
    "import timeit\n",
    "\n",
    "def wrapper(func, *args, **kwargs):\n",
    "    def wrapped():\n",
    "        return func(*args, **kwargs)\n",
    "    return wrapped\n",
    "\n",
    "def costly_func(lst): \n",
    "     return map(lambda x: x^2, lst) \n",
    "    \n",
    "short_list = range(10) \n",
    "wrapped = wrapper(costly_func, short_list)\n",
    "\n",
    "timeit.timeit(wrapped, number=1000)\n",
    "\n",
    "#timeit.timeit(multiply_matx(A,B))"
   ]
  },
  {
   "cell_type": "code",
   "execution_count": 20,
   "metadata": {},
   "outputs": [
    {
     "ename": "ValueError",
     "evalue": "stmt is neither a string nor callable",
     "output_type": "error",
     "traceback": [
      "\u001b[0;31m---------------------------------------------------------------------------\u001b[0m",
      "\u001b[0;31mValueError\u001b[0m                                Traceback (most recent call last)",
      "\u001b[0;32m<ipython-input-20-b529d6c445e9>\u001b[0m in \u001b[0;36m<module>\u001b[0;34m()\u001b[0m\n\u001b[0;32m----> 1\u001b[0;31m \u001b[0mprint\u001b[0m\u001b[0;34m(\u001b[0m\u001b[0mtimeit\u001b[0m\u001b[0;34m.\u001b[0m\u001b[0mtimeit\u001b[0m\u001b[0;34m(\u001b[0m\u001b[0mstmt\u001b[0m\u001b[0;34m=\u001b[0m\u001b[0mmultiply_matx\u001b[0m\u001b[0;34m(\u001b[0m\u001b[0mA\u001b[0m\u001b[0;34m,\u001b[0m\u001b[0mB\u001b[0m\u001b[0;34m)\u001b[0m\u001b[0;34m)\u001b[0m\u001b[0;34m)\u001b[0m\u001b[0;34m\u001b[0m\u001b[0m\n\u001b[0m",
      "\u001b[0;32m//anaconda3/envs/learn-env/lib/python3.6/timeit.py\u001b[0m in \u001b[0;36mtimeit\u001b[0;34m(stmt, setup, timer, number, globals)\u001b[0m\n\u001b[1;32m    231\u001b[0m            number=default_number, globals=None):\n\u001b[1;32m    232\u001b[0m     \u001b[0;34m\"\"\"Convenience function to create Timer object and call timeit method.\"\"\"\u001b[0m\u001b[0;34m\u001b[0m\u001b[0m\n\u001b[0;32m--> 233\u001b[0;31m     \u001b[0;32mreturn\u001b[0m \u001b[0mTimer\u001b[0m\u001b[0;34m(\u001b[0m\u001b[0mstmt\u001b[0m\u001b[0;34m,\u001b[0m \u001b[0msetup\u001b[0m\u001b[0;34m,\u001b[0m \u001b[0mtimer\u001b[0m\u001b[0;34m,\u001b[0m \u001b[0mglobals\u001b[0m\u001b[0;34m)\u001b[0m\u001b[0;34m.\u001b[0m\u001b[0mtimeit\u001b[0m\u001b[0;34m(\u001b[0m\u001b[0mnumber\u001b[0m\u001b[0;34m)\u001b[0m\u001b[0;34m\u001b[0m\u001b[0m\n\u001b[0m\u001b[1;32m    234\u001b[0m \u001b[0;34m\u001b[0m\u001b[0m\n\u001b[1;32m    235\u001b[0m def repeat(stmt=\"pass\", setup=\"pass\", timer=default_timer,\n",
      "\u001b[0;32m//anaconda3/envs/learn-env/lib/python3.6/timeit.py\u001b[0m in \u001b[0;36m__init__\u001b[0;34m(self, stmt, setup, timer, globals)\u001b[0m\n\u001b[1;32m    128\u001b[0m             \u001b[0mstmt\u001b[0m \u001b[0;34m=\u001b[0m \u001b[0;34m'_stmt()'\u001b[0m\u001b[0;34m\u001b[0m\u001b[0m\n\u001b[1;32m    129\u001b[0m         \u001b[0;32melse\u001b[0m\u001b[0;34m:\u001b[0m\u001b[0;34m\u001b[0m\u001b[0m\n\u001b[0;32m--> 130\u001b[0;31m             \u001b[0;32mraise\u001b[0m \u001b[0mValueError\u001b[0m\u001b[0;34m(\u001b[0m\u001b[0;34m\"stmt is neither a string nor callable\"\u001b[0m\u001b[0;34m)\u001b[0m\u001b[0;34m\u001b[0m\u001b[0m\n\u001b[0m\u001b[1;32m    131\u001b[0m         \u001b[0msrc\u001b[0m \u001b[0;34m=\u001b[0m \u001b[0mtemplate\u001b[0m\u001b[0;34m.\u001b[0m\u001b[0mformat\u001b[0m\u001b[0;34m(\u001b[0m\u001b[0mstmt\u001b[0m\u001b[0;34m=\u001b[0m\u001b[0mstmt\u001b[0m\u001b[0;34m,\u001b[0m \u001b[0msetup\u001b[0m\u001b[0;34m=\u001b[0m\u001b[0msetup\u001b[0m\u001b[0;34m,\u001b[0m \u001b[0minit\u001b[0m\u001b[0;34m=\u001b[0m\u001b[0minit\u001b[0m\u001b[0;34m)\u001b[0m\u001b[0;34m\u001b[0m\u001b[0m\n\u001b[1;32m    132\u001b[0m         \u001b[0mself\u001b[0m\u001b[0;34m.\u001b[0m\u001b[0msrc\u001b[0m \u001b[0;34m=\u001b[0m \u001b[0msrc\u001b[0m  \u001b[0;31m# Save for traceback display\u001b[0m\u001b[0;34m\u001b[0m\u001b[0m\n",
      "\u001b[0;31mValueError\u001b[0m: stmt is neither a string nor callable"
     ]
    }
   ],
   "source": [
    "print(timeit.timeit(stmt=multiply_matx(A,B)))"
   ]
  },
  {
   "cell_type": "code",
   "execution_count": 21,
   "metadata": {},
   "outputs": [
    {
     "ename": "ValueError",
     "evalue": "stmt is neither a string nor callable",
     "output_type": "error",
     "traceback": [
      "\u001b[0;31m---------------------------------------------------------------------------\u001b[0m",
      "\u001b[0;31mValueError\u001b[0m                                Traceback (most recent call last)",
      "\u001b[0;32m<ipython-input-21-60c2263f0740>\u001b[0m in \u001b[0;36m<module>\u001b[0;34m()\u001b[0m\n\u001b[0;32m----> 1\u001b[0;31m \u001b[0mprint\u001b[0m\u001b[0;34m(\u001b[0m\u001b[0mtimeit\u001b[0m\u001b[0;34m.\u001b[0m\u001b[0mtimeit\u001b[0m\u001b[0;34m(\u001b[0m\u001b[0mstmt\u001b[0m\u001b[0;34m=\u001b[0m\u001b[0mA\u001b[0m\u001b[0;34m.\u001b[0m\u001b[0mdot\u001b[0m\u001b[0;34m(\u001b[0m\u001b[0mB\u001b[0m\u001b[0;34m)\u001b[0m\u001b[0;34m)\u001b[0m\u001b[0;34m)\u001b[0m\u001b[0;34m\u001b[0m\u001b[0m\n\u001b[0m",
      "\u001b[0;32m//anaconda3/envs/learn-env/lib/python3.6/timeit.py\u001b[0m in \u001b[0;36mtimeit\u001b[0;34m(stmt, setup, timer, number, globals)\u001b[0m\n\u001b[1;32m    231\u001b[0m            number=default_number, globals=None):\n\u001b[1;32m    232\u001b[0m     \u001b[0;34m\"\"\"Convenience function to create Timer object and call timeit method.\"\"\"\u001b[0m\u001b[0;34m\u001b[0m\u001b[0m\n\u001b[0;32m--> 233\u001b[0;31m     \u001b[0;32mreturn\u001b[0m \u001b[0mTimer\u001b[0m\u001b[0;34m(\u001b[0m\u001b[0mstmt\u001b[0m\u001b[0;34m,\u001b[0m \u001b[0msetup\u001b[0m\u001b[0;34m,\u001b[0m \u001b[0mtimer\u001b[0m\u001b[0;34m,\u001b[0m \u001b[0mglobals\u001b[0m\u001b[0;34m)\u001b[0m\u001b[0;34m.\u001b[0m\u001b[0mtimeit\u001b[0m\u001b[0;34m(\u001b[0m\u001b[0mnumber\u001b[0m\u001b[0;34m)\u001b[0m\u001b[0;34m\u001b[0m\u001b[0m\n\u001b[0m\u001b[1;32m    234\u001b[0m \u001b[0;34m\u001b[0m\u001b[0m\n\u001b[1;32m    235\u001b[0m def repeat(stmt=\"pass\", setup=\"pass\", timer=default_timer,\n",
      "\u001b[0;32m//anaconda3/envs/learn-env/lib/python3.6/timeit.py\u001b[0m in \u001b[0;36m__init__\u001b[0;34m(self, stmt, setup, timer, globals)\u001b[0m\n\u001b[1;32m    128\u001b[0m             \u001b[0mstmt\u001b[0m \u001b[0;34m=\u001b[0m \u001b[0;34m'_stmt()'\u001b[0m\u001b[0;34m\u001b[0m\u001b[0m\n\u001b[1;32m    129\u001b[0m         \u001b[0;32melse\u001b[0m\u001b[0;34m:\u001b[0m\u001b[0;34m\u001b[0m\u001b[0m\n\u001b[0;32m--> 130\u001b[0;31m             \u001b[0;32mraise\u001b[0m \u001b[0mValueError\u001b[0m\u001b[0;34m(\u001b[0m\u001b[0;34m\"stmt is neither a string nor callable\"\u001b[0m\u001b[0;34m)\u001b[0m\u001b[0;34m\u001b[0m\u001b[0m\n\u001b[0m\u001b[1;32m    131\u001b[0m         \u001b[0msrc\u001b[0m \u001b[0;34m=\u001b[0m \u001b[0mtemplate\u001b[0m\u001b[0;34m.\u001b[0m\u001b[0mformat\u001b[0m\u001b[0;34m(\u001b[0m\u001b[0mstmt\u001b[0m\u001b[0;34m=\u001b[0m\u001b[0mstmt\u001b[0m\u001b[0;34m,\u001b[0m \u001b[0msetup\u001b[0m\u001b[0;34m=\u001b[0m\u001b[0msetup\u001b[0m\u001b[0;34m,\u001b[0m \u001b[0minit\u001b[0m\u001b[0;34m=\u001b[0m\u001b[0minit\u001b[0m\u001b[0;34m)\u001b[0m\u001b[0;34m\u001b[0m\u001b[0m\n\u001b[1;32m    132\u001b[0m         \u001b[0mself\u001b[0m\u001b[0;34m.\u001b[0m\u001b[0msrc\u001b[0m \u001b[0;34m=\u001b[0m \u001b[0msrc\u001b[0m  \u001b[0;31m# Save for traceback display\u001b[0m\u001b[0;34m\u001b[0m\u001b[0m\n",
      "\u001b[0;31mValueError\u001b[0m: stmt is neither a string nor callable"
     ]
    }
   ],
   "source": [
    "print(timeit.timeit(stmt=A.dot(B)))"
   ]
  },
  {
   "cell_type": "code",
   "execution_count": null,
   "metadata": {},
   "outputs": [],
   "source": [
    "import timeit\n",
    "\n",
    "# Start the timer\n",
    "start = None\n",
    "\n",
    "# Matrix multiplication in pure Python\n",
    "\n",
    "\n",
    "time_spent = None\n",
    "\n",
    "print('Pure Python time:', time_spent, 'sec.')"
   ]
  },
  {
   "cell_type": "markdown",
   "metadata": {},
   "source": [
    "## Numpy \n",
    "Set the timer and calculate the time taken by the `.dot()` method for multiplying $A$ and $B$ \n"
   ]
  },
  {
   "cell_type": "code",
   "execution_count": 18,
   "metadata": {},
   "outputs": [
    {
     "ename": "ValueError",
     "evalue": "stmt is neither a string nor callable",
     "output_type": "error",
     "traceback": [
      "\u001b[0;31m---------------------------------------------------------------------------\u001b[0m",
      "\u001b[0;31mValueError\u001b[0m                                Traceback (most recent call last)",
      "\u001b[0;32m<ipython-input-18-a1f22dc98d1d>\u001b[0m in \u001b[0;36m<module>\u001b[0;34m()\u001b[0m\n\u001b[0;32m----> 1\u001b[0;31m \u001b[0mtimeit\u001b[0m\u001b[0;34m.\u001b[0m\u001b[0mtimeit\u001b[0m\u001b[0;34m(\u001b[0m\u001b[0mA\u001b[0m\u001b[0;34m.\u001b[0m\u001b[0mdot\u001b[0m\u001b[0;34m(\u001b[0m\u001b[0mB\u001b[0m\u001b[0;34m)\u001b[0m\u001b[0;34m)\u001b[0m\u001b[0;34m\u001b[0m\u001b[0m\n\u001b[0m",
      "\u001b[0;32m//anaconda3/envs/learn-env/lib/python3.6/timeit.py\u001b[0m in \u001b[0;36mtimeit\u001b[0;34m(stmt, setup, timer, number, globals)\u001b[0m\n\u001b[1;32m    231\u001b[0m            number=default_number, globals=None):\n\u001b[1;32m    232\u001b[0m     \u001b[0;34m\"\"\"Convenience function to create Timer object and call timeit method.\"\"\"\u001b[0m\u001b[0;34m\u001b[0m\u001b[0m\n\u001b[0;32m--> 233\u001b[0;31m     \u001b[0;32mreturn\u001b[0m \u001b[0mTimer\u001b[0m\u001b[0;34m(\u001b[0m\u001b[0mstmt\u001b[0m\u001b[0;34m,\u001b[0m \u001b[0msetup\u001b[0m\u001b[0;34m,\u001b[0m \u001b[0mtimer\u001b[0m\u001b[0;34m,\u001b[0m \u001b[0mglobals\u001b[0m\u001b[0;34m)\u001b[0m\u001b[0;34m.\u001b[0m\u001b[0mtimeit\u001b[0m\u001b[0;34m(\u001b[0m\u001b[0mnumber\u001b[0m\u001b[0;34m)\u001b[0m\u001b[0;34m\u001b[0m\u001b[0m\n\u001b[0m\u001b[1;32m    234\u001b[0m \u001b[0;34m\u001b[0m\u001b[0m\n\u001b[1;32m    235\u001b[0m def repeat(stmt=\"pass\", setup=\"pass\", timer=default_timer,\n",
      "\u001b[0;32m//anaconda3/envs/learn-env/lib/python3.6/timeit.py\u001b[0m in \u001b[0;36m__init__\u001b[0;34m(self, stmt, setup, timer, globals)\u001b[0m\n\u001b[1;32m    128\u001b[0m             \u001b[0mstmt\u001b[0m \u001b[0;34m=\u001b[0m \u001b[0;34m'_stmt()'\u001b[0m\u001b[0;34m\u001b[0m\u001b[0m\n\u001b[1;32m    129\u001b[0m         \u001b[0;32melse\u001b[0m\u001b[0;34m:\u001b[0m\u001b[0;34m\u001b[0m\u001b[0m\n\u001b[0;32m--> 130\u001b[0;31m             \u001b[0;32mraise\u001b[0m \u001b[0mValueError\u001b[0m\u001b[0;34m(\u001b[0m\u001b[0;34m\"stmt is neither a string nor callable\"\u001b[0m\u001b[0;34m)\u001b[0m\u001b[0;34m\u001b[0m\u001b[0m\n\u001b[0m\u001b[1;32m    131\u001b[0m         \u001b[0msrc\u001b[0m \u001b[0;34m=\u001b[0m \u001b[0mtemplate\u001b[0m\u001b[0;34m.\u001b[0m\u001b[0mformat\u001b[0m\u001b[0;34m(\u001b[0m\u001b[0mstmt\u001b[0m\u001b[0;34m=\u001b[0m\u001b[0mstmt\u001b[0m\u001b[0;34m,\u001b[0m \u001b[0msetup\u001b[0m\u001b[0;34m=\u001b[0m\u001b[0msetup\u001b[0m\u001b[0;34m,\u001b[0m \u001b[0minit\u001b[0m\u001b[0;34m=\u001b[0m\u001b[0minit\u001b[0m\u001b[0;34m)\u001b[0m\u001b[0;34m\u001b[0m\u001b[0m\n\u001b[1;32m    132\u001b[0m         \u001b[0mself\u001b[0m\u001b[0;34m.\u001b[0m\u001b[0msrc\u001b[0m \u001b[0;34m=\u001b[0m \u001b[0msrc\u001b[0m  \u001b[0;31m# Save for traceback display\u001b[0m\u001b[0;34m\u001b[0m\u001b[0m\n",
      "\u001b[0;31mValueError\u001b[0m: stmt is neither a string nor callable"
     ]
    }
   ],
   "source": [
    "timeit.timeit(A.dot(B))"
   ]
  },
  {
   "cell_type": "code",
   "execution_count": null,
   "metadata": {},
   "outputs": [],
   "source": [
    "# Start the timer\n",
    "start = None\n",
    "\n",
    "# Matrix multiplication in numpy\n",
    "\n",
    "\n",
    "time_spent = None\n",
    "print('Numpy time:', time_spent, 'sec.')"
   ]
  },
  {
   "cell_type": "markdown",
   "metadata": {},
   "source": [
    "### Your comments"
   ]
  },
  {
   "cell_type": "markdown",
   "metadata": {},
   "source": [
    "## Summary\n",
    "\n",
    "In this lab, you performed a quick comparison between calculating a dot product in Numpy vs pure Python. You saw that Numpy is computationally much more efficient than pure Python code because of the sophisticated implementation of Numpy source code. You're encouraged to always perform time tests to fully appreciate the use of an additional library in Python. "
   ]
  },
  {
   "cell_type": "code",
   "execution_count": null,
   "metadata": {},
   "outputs": [],
   "source": []
  },
  {
   "cell_type": "code",
   "execution_count": 1,
   "metadata": {},
   "outputs": [],
   "source": [
    "# Compare 200x200 matrix-matrix multiplication speed\n",
    "import numpy as np\n",
    "# Set up the variables\n",
    "\n",
    "SIZE = 200\n",
    "A = np.random.rand(SIZE, SIZE)\n",
    "B = np.random.rand(SIZE, SIZE)"
   ]
  },
  {
   "cell_type": "code",
   "execution_count": 2,
   "metadata": {},
   "outputs": [
    {
     "name": "stdout",
     "output_type": "stream",
     "text": [
      "Pure Python time: 8.752514368999982 sec.\n"
     ]
    }
   ],
   "source": [
    "import timeit\n",
    "\n",
    "# Start the timer\n",
    "start = timeit.default_timer()\n",
    "\n",
    "# Matrix multiplication in pure Python\n",
    "\n",
    "out2 = np.zeros((SIZE, SIZE))\n",
    "\n",
    "for i in range(SIZE):\n",
    "    for j in range(SIZE):\n",
    "        for k in range(SIZE):\n",
    "      \n",
    "            out2[i, k] += A[i, j]*B[j, k]\n",
    "\n",
    "time_spent = timeit.default_timer() - start\n",
    "\n",
    "print('Pure Python time:', time_spent, 'sec.')"
   ]
  },
  {
   "cell_type": "code",
   "execution_count": 3,
   "metadata": {},
   "outputs": [
    {
     "name": "stdout",
     "output_type": "stream",
     "text": [
      "Numpy time: 0.051898368000024675 sec.\n"
     ]
    }
   ],
   "source": [
    "# Start the timer\n",
    "start = timeit.default_timer()\n",
    "\n",
    "# Matrix multiplication in numpy\n",
    "out1 = A.dot(B)\n",
    "\n",
    "time_spent = timeit.default_timer() - start\n",
    "print('Numpy time:', time_spent, 'sec.')"
   ]
  },
  {
   "cell_type": "code",
   "execution_count": 4,
   "metadata": {},
   "outputs": [],
   "source": [
    "# Your comments:\n",
    "\n",
    "# Numpy is much faster than pure Python \n",
    "\n",
    "# Numpy provides support for large multidimensional arrays and matrices \n",
    "# along with a collection of mathematical functions to operate on these elements. \n",
    "\n",
    "# Numpy relies on well-known packages implemented in other languages (like Fortran) to perform efficient computations, \n",
    "# bringing the user both the expressiveness of Python and a performance similar to MATLAB or Fortran."
   ]
  },
  {
   "cell_type": "code",
   "execution_count": null,
   "metadata": {},
   "outputs": [],
   "source": []
  },
  {
   "cell_type": "code",
   "execution_count": null,
   "metadata": {},
   "outputs": [],
   "source": [
    "# Again with my code:"
   ]
  },
  {
   "cell_type": "code",
   "execution_count": 30,
   "metadata": {},
   "outputs": [],
   "source": [
    "SIZE = 8\n",
    "A = np.random.rand(SIZE, SIZE)\n",
    "B = np.random.rand(SIZE, SIZE)"
   ]
  },
  {
   "cell_type": "code",
   "execution_count": 31,
   "metadata": {},
   "outputs": [
    {
     "name": "stdout",
     "output_type": "stream",
     "text": [
      "Pure Python time: 0.0015383579998342611 sec.\n"
     ]
    }
   ],
   "source": [
    "import timeit\n",
    "\n",
    "# Start the timer\n",
    "start = timeit.default_timer()\n",
    "\n",
    "# Matrix multiplication in pure Python\n",
    "\n",
    "result = np.zeros((A.shape[1], B.shape[0]))\n",
    "\n",
    "for i in range(len(A)):\n",
    "    for j in range(len(B[0])):\n",
    "        for k in range(len(B)):\n",
    "            result[i][j] += A[i][k] * B[k][j]\n",
    "\n",
    "time_spent = timeit.default_timer() - start\n",
    "\n",
    "print('Pure Python time:', time_spent, 'sec.')"
   ]
  },
  {
   "cell_type": "code",
   "execution_count": 32,
   "metadata": {},
   "outputs": [
    {
     "name": "stdout",
     "output_type": "stream",
     "text": [
      "Numpy time: 0.00033566899992365506 sec.\n"
     ]
    }
   ],
   "source": [
    "start = timeit.default_timer()\n",
    "\n",
    "# Matrix multiplication in numpy\n",
    "out1 = A.dot(B)\n",
    "\n",
    "time_spent = timeit.default_timer() - start\n",
    "print('Numpy time:', time_spent, 'sec.')"
   ]
  },
  {
   "cell_type": "code",
   "execution_count": null,
   "metadata": {},
   "outputs": [],
   "source": []
  },
  {
   "cell_type": "code",
   "execution_count": 36,
   "metadata": {},
   "outputs": [
    {
     "name": "stdout",
     "output_type": "stream",
     "text": [
      "[[3.35705582 2.87695203 2.78798929 2.93422315 3.79735216 2.5041932\n",
      "  2.20196063 3.33702929]\n",
      " [2.69424616 2.39243307 1.70499916 2.19177813 2.95865457 1.38425914\n",
      "  2.06711771 2.42564125]\n",
      " [3.0436007  3.04889843 2.65020376 2.82269737 4.36498634 2.48889146\n",
      "  2.43956697 3.31343441]\n",
      " [1.25064587 1.33739261 0.93929976 1.31464438 1.77338209 0.86513893\n",
      "  1.11469134 1.44501809]\n",
      " [2.92677623 2.19218214 2.15551666 2.47708399 3.27156386 2.05493869\n",
      "  1.91712353 3.04509824]\n",
      " [2.38743596 2.59728204 2.055106   2.26724297 3.34772731 1.91711765\n",
      "  1.86939363 2.58995873]\n",
      " [2.55084769 2.36001866 1.95907686 2.56190338 3.31139061 1.81402424\n",
      "  1.91229548 3.22337372]\n",
      " [2.88104937 2.51736757 2.23691488 2.05394131 3.21247188 2.09842072\n",
      "  1.94243865 2.63167756]]\n"
     ]
    }
   ],
   "source": [
    "result = np.zeros((A.shape[1], B.shape[0]))\n",
    "\n",
    "for i in range(len(A)):\n",
    "    for j in range(len(B[0])):\n",
    "        for k in range(len(B)):\n",
    "            result[i][j] += A[i][k] * B[k][j]\n",
    "print(result)"
   ]
  },
  {
   "cell_type": "code",
   "execution_count": null,
   "metadata": {},
   "outputs": [],
   "source": []
  },
  {
   "cell_type": "code",
   "execution_count": null,
   "metadata": {},
   "outputs": [],
   "source": []
  },
  {
   "cell_type": "code",
   "execution_count": null,
   "metadata": {},
   "outputs": [],
   "source": []
  },
  {
   "cell_type": "code",
   "execution_count": 41,
   "metadata": {},
   "outputs": [],
   "source": [
    "import numpy as np\n",
    "# Set up the variables\n",
    "\n",
    "SIZE = 3\n",
    "A = np.random.rand(SIZE, SIZE)\n",
    "B = np.random.rand(SIZE, SIZE)"
   ]
  },
  {
   "cell_type": "code",
   "execution_count": 44,
   "metadata": {},
   "outputs": [],
   "source": [
    "def dot_prod_matx(A,B):\n",
    "\n",
    "    out2 = np.zeros((SIZE, SIZE))\n",
    "\n",
    "    for i in range(SIZE):\n",
    "        for j in range(SIZE):\n",
    "            for k in range(SIZE):\n",
    "      \n",
    "                out2[i, k] += A[i, j]*B[j, k]\n",
    "        \n",
    "    return out2"
   ]
  },
  {
   "cell_type": "code",
   "execution_count": 45,
   "metadata": {},
   "outputs": [
    {
     "name": "stdout",
     "output_type": "stream",
     "text": [
      "[[0.00921187 0.54590681 0.40151519]\n",
      " [0.05723937 0.58346159 0.63112579]\n",
      " [0.51378959 0.18666599 0.65432702]] \n",
      "\n",
      "[[0.66178619 0.6419171  0.74308223]\n",
      " [0.54972227 0.6608754  0.26685425]\n",
      " [0.26970928 0.78727619 0.37445994]] \n",
      "\n",
      "Python multiplication: \n",
      " [[0.41448579 0.68279298 0.30287408]\n",
      " [0.52884254 0.91920865 0.43456409]\n",
      " [0.61911138 0.96830936 0.67661978]] \n",
      "\n",
      "Numpy dot product: \n",
      " [[0.41448579 0.68279298 0.30287408]\n",
      " [0.52884254 0.91920865 0.43456409]\n",
      " [0.61911138 0.96830936 0.67661978]]\n"
     ]
    }
   ],
   "source": [
    "# Their code\n",
    "\n",
    "print(A, '\\n')\n",
    "print(B, '\\n')\n",
    "C = dot_prod_matx(A,B)\n",
    "print('Python multiplication:', '\\n', C, '\\n')\n",
    "D = A.dot(B)\n",
    "print('Numpy dot product:', '\\n',D)"
   ]
  },
  {
   "cell_type": "raw",
   "metadata": {},
   "source": [
    "(3x2)  (2x4)\n",
    "a b     g h i j\n",
    "c d     k l m n\n",
    "e f\n",
    "\n",
    "(3x4)\n",
    "ag+bk   ah+bl   ai+bm   aj+bn\n",
    "cg+dk   ch+dl   ci+dm   cj+dn\n",
    "eg+fk   eh+fl   ei+fm   ej+fn"
   ]
  }
 ],
 "metadata": {
  "kernelspec": {
   "display_name": "learn-env",
   "language": "python",
   "name": "learn-env"
  },
  "language_info": {
   "codemirror_mode": {
    "name": "ipython",
    "version": 3
   },
   "file_extension": ".py",
   "mimetype": "text/x-python",
   "name": "python",
   "nbconvert_exporter": "python",
   "pygments_lexer": "ipython3",
   "version": "3.6.6"
  }
 },
 "nbformat": 4,
 "nbformat_minor": 2
}
